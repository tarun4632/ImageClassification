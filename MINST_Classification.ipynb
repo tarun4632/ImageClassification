{
 "cells": [
  {
   "metadata": {},
   "cell_type": "markdown",
   "source": [
    "# ML Summer School Project 1 \n",
    "\n",
    "## Deep Learning with MNIST dataset and Dog Cat classification dataset"
   ],
   "id": "d5c32fadeff2cef8"
  },
  {
   "metadata": {},
   "cell_type": "markdown",
   "source": "### Importing Required libraries - ",
   "id": "bdc37713c78d0784"
  },
  {
   "metadata": {
    "ExecuteTime": {
     "end_time": "2024-06-20T01:44:08.686068Z",
     "start_time": "2024-06-20T01:44:04.347981Z"
    }
   },
   "cell_type": "code",
   "source": [
    "import torch                                                                # importing pytorch \n",
    "from torch import nn                                                        # importing the nn class from the torch \n",
    "import numpy as np                                                          # numpy is the mathematical library for python \n",
    "import pandas as pd                                                         # for data preprocessing\n",
    "import matplotlib.pyplot as plt                                             # Data Visualisation Library for python \n",
    "# import seaborn as sns                                                       # datavisualisation lib\n",
    "import torchvision.transforms as transforms                                 # contains various transforms to apply to the dataset \n",
    "from torchvision.datasets import MNIST                                      # importing the Mnist dataset from the torchvision library\n",
    "import sklearn                                                              # ML assistance \n",
    "from sklearn.model_selection import train_test_split                        # function for spliting the data into train, val and test sets\n",
    "from torchvision.transforms import ToTensor                                 # function used for converting the images into tensors \n",
    "from torch.utils.data import DataLoader                                     # to make the dataset an python iterable "
   ],
   "id": "d26270c98fd5e9cb",
   "outputs": [],
   "execution_count": 1
  },
  {
   "metadata": {},
   "cell_type": "markdown",
   "source": "### Loading data from the `torchvision.datasets.MNIST` -",
   "id": "37aa369955208aee"
  },
  {
   "metadata": {
    "ExecuteTime": {
     "end_time": "2024-06-19T08:46:35.778098Z",
     "start_time": "2024-06-19T08:46:35.578757Z"
    }
   },
   "cell_type": "code",
   "source": [
    "train_val_data = MNIST(\n",
    "    root = \"data\",                                                          # this is the root directory in which we want our dataset\n",
    "    train=True,                                                             # this signifies that this is the training data \n",
    "    transform=ToTensor(),                                                   # this is to transform the data into the tensor form\n",
    "    target_transform=None,                                                  # takes in the target and transforms it\n",
    "    download=False\n",
    ")\n",
    "\n",
    "test_data = MNIST(\n",
    "    root = \"data\",\n",
    "    train = False,\n",
    "    transform=ToTensor(),\n",
    "    target_transform=None,\n",
    "    download=False\n",
    ")"
   ],
   "id": "c3f24e95e8e619cd",
   "outputs": [],
   "execution_count": 3
  },
  {
   "metadata": {
    "ExecuteTime": {
     "end_time": "2024-06-19T08:46:35.787528Z",
     "start_time": "2024-06-19T08:46:35.779286Z"
    }
   },
   "cell_type": "code",
   "source": [
    "device = torch.device('cuda' if torch.cuda.is_available() else 'cpu')\n",
    "device"
   ],
   "id": "ce234d9c2601fc85",
   "outputs": [
    {
     "data": {
      "text/plain": [
       "device(type='cpu')"
      ]
     },
     "execution_count": 4,
     "metadata": {},
     "output_type": "execute_result"
    }
   ],
   "execution_count": 4
  },
  {
   "metadata": {
    "ExecuteTime": {
     "end_time": "2024-06-19T08:46:35.830049Z",
     "start_time": "2024-06-19T08:46:35.789993Z"
    }
   },
   "cell_type": "code",
   "source": [
    "from torch.utils.data import random_split\n",
    "train_size = int(0.8 * len(train_val_data))\n",
    "val_size = len(train_val_data) - train_size\n",
    "train_data, val_data = random_split(train_val_data, [train_size, val_size])\n"
   ],
   "id": "de989c179f84689b",
   "outputs": [],
   "execution_count": 5
  },
  {
   "metadata": {},
   "cell_type": "markdown",
   "source": "### Analysing the data",
   "id": "f8add8cb698ff115"
  },
  {
   "metadata": {
    "ExecuteTime": {
     "end_time": "2024-06-19T08:46:35.836127Z",
     "start_time": "2024-06-19T08:46:35.831918Z"
    }
   },
   "cell_type": "code",
   "source": [
    "# Analysing the Label Values from the data \n",
    "\n",
    "class_names = train_val_data.classes"
   ],
   "id": "bdbf13474739349c",
   "outputs": [],
   "execution_count": 6
  },
  {
   "metadata": {
    "ExecuteTime": {
     "end_time": "2024-06-19T08:46:36.068033Z",
     "start_time": "2024-06-19T08:46:36.063089Z"
    }
   },
   "cell_type": "code",
   "source": "test_data.class_to_idx",
   "id": "ac5a0c9a2512308c",
   "outputs": [
    {
     "data": {
      "text/plain": [
       "{'0 - zero': 0,\n",
       " '1 - one': 1,\n",
       " '2 - two': 2,\n",
       " '3 - three': 3,\n",
       " '4 - four': 4,\n",
       " '5 - five': 5,\n",
       " '6 - six': 6,\n",
       " '7 - seven': 7,\n",
       " '8 - eight': 8,\n",
       " '9 - nine': 9}"
      ]
     },
     "execution_count": 7,
     "metadata": {},
     "output_type": "execute_result"
    }
   ],
   "execution_count": 7
  },
  {
   "metadata": {},
   "cell_type": "markdown",
   "source": "### Visualisation of the data",
   "id": "d79669d7d058c893"
  },
  {
   "metadata": {
    "ExecuteTime": {
     "end_time": "2024-06-19T08:46:38.676521Z",
     "start_time": "2024-06-19T08:46:38.485012Z"
    }
   },
   "cell_type": "code",
   "source": [
    "from PIL import Image\n",
    "\n",
    "def show_image(image):\n",
    "    image_np = image.numpy()\n",
    "    \n",
    "    image_np = image_np.transpose((1,2,0))\n",
    "    \n",
    "    plt.imshow(image_np.squeeze(), cmap = \"gray\")\n",
    "    plt.axis('off')\n",
    "    plt.show()\n",
    "\n",
    "image, label = train_val_data[0]                            # the train dataset contains the image and the labels \n",
    "show_image(image) "
   ],
   "id": "3d7db8df0c7e14b2",
   "outputs": [
    {
     "data": {
      "text/plain": [
       "<Figure size 640x480 with 1 Axes>"
      ],
      "image/png": "[encoded data removed]"
     },
     "metadata": {},
     "output_type": "display_data"
    }
   ],
   "execution_count": 8
  },
  {
   "metadata": {},
   "cell_type": "markdown",
   "source": [
    "### visualizing multiple images \n",
    "\n",
    "Function to print multiple images from the train dataset with the labels as there headings \n",
    "- basically making a figure of figsize = (r*c, r*c)\n",
    "- then running a loop over the training set for r*c times \n",
    "- taking a random index every time\n",
    "- adding a subplot of size (r,c) at the i th position \n",
    "- showing the image there of that random index"
   ],
   "id": "e00dc0aa92bbe207"
  },
  {
   "metadata": {
    "ExecuteTime": {
     "end_time": "2024-06-19T08:46:42.856770Z",
     "start_time": "2024-06-19T08:46:40.549301Z"
    }
   },
   "cell_type": "code",
   "source": [
    "rows, columns = 4,4\n",
    "fig = plt.figure(figsize=(rows*columns, rows*columns))\n",
    "for i in range(1, rows*columns+1):\n",
    "    random_idx = torch.randint(0, len(train_data), size=[1]).item()\n",
    "    image, label = train_data[random_idx]\n",
    "    fig.add_subplot(rows,columns,i)\n",
    "    plt.imshow(image.squeeze(), cmap=\"gray\")\n",
    "    plt.title(class_names[label])\n",
    "    plt.axis(False)\n",
    " "
   ],
   "id": "562299116e70e261",
   "outputs": [
    {
     "data": {
      "text/plain": [
       "<Figure size 1600x1600 with 16 Axes>"
      ],
      "image/png": "[encoded data removed]"
     },
     "metadata": {},
     "output_type": "display_data"
    }
   ],
   "execution_count": 9
  },
  {
   "metadata": {
    "ExecuteTime": {
     "end_time": "2024-06-19T08:46:46.934629Z",
     "start_time": "2024-06-19T08:46:42.859391Z"
    }
   },
   "cell_type": "code",
   "source": [
    "# getting the number of images for each of the class \n",
    "from collections import Counter\n",
    "\n",
    "train_classes = [label for i , label in train_data]\n",
    "frequency = dict(Counter(train_classes))\n",
    "\n",
    "# plt.hist(frequency)"
   ],
   "id": "aeb743755cb05f5c",
   "outputs": [],
   "execution_count": 10
  },
  {
   "metadata": {},
   "cell_type": "markdown",
   "source": "",
   "id": "34abd1b6e2d2a558"
  },
  {
   "metadata": {},
   "cell_type": "markdown",
   "source": [
    "### Creating DataLoaders for our data- \n",
    "\n",
    "- dataloaders are used to basically make the mini batches for the training of the data\n",
    "- it creates out dataset a python iterable"
   ],
   "id": "2cb3b1435b9ba0ce"
  },
  {
   "metadata": {
    "ExecuteTime": {
     "end_time": "2024-06-18T20:28:04.792981Z",
     "start_time": "2024-06-18T20:28:04.787992Z"
    }
   },
   "cell_type": "code",
   "source": [
    "train_dataloader = DataLoader(train_data, 64, True)\n",
    "val_dataloader = DataLoader(val_data, shuffle=True)\n",
    "test_dataloader = DataLoader(test_data, shuffle=True)"
   ],
   "id": "8b8bcc4d4157fb19",
   "outputs": [],
   "execution_count": 272
  },
  {
   "metadata": {
    "ExecuteTime": {
     "end_time": "2024-06-18T20:28:04.813572Z",
     "start_time": "2024-06-18T20:28:04.796833Z"
    }
   },
   "cell_type": "code",
   "source": "next(iter(train_dataloader))",
   "id": "d0181189ca15af40",
   "outputs": [
    {
     "data": {
      "text/plain": [
       "[tensor([[[[0., 0., 0.,  ..., 0., 0., 0.],\n",
       "           [0., 0., 0.,  ..., 0., 0., 0.],\n",
       "           [0., 0., 0.,  ..., 0., 0., 0.],\n",
       "           ...,\n",
       "           [0., 0., 0.,  ..., 0., 0., 0.],\n",
       "           [0., 0., 0.,  ..., 0., 0., 0.],\n",
       "           [0., 0., 0.,  ..., 0., 0., 0.]]],\n",
       " \n",
       " \n",
       "         [[[0., 0., 0.,  ..., 0., 0., 0.],\n",
       "           [0., 0., 0.,  ..., 0., 0., 0.],\n",
       "           [0., 0., 0.,  ..., 0., 0., 0.],\n",
       "           ...,\n",
       "           [0., 0., 0.,  ..., 0., 0., 0.],\n",
       "           [0., 0., 0.,  ..., 0., 0., 0.],\n",
       "           [0., 0., 0.,  ..., 0., 0., 0.]]],\n",
       " \n",
       " \n",
       "         [[[0., 0., 0.,  ..., 0., 0., 0.],\n",
       "           [0., 0., 0.,  ..., 0., 0., 0.],\n",
       "           [0., 0., 0.,  ..., 0., 0., 0.],\n",
       "           ...,\n",
       "           [0., 0., 0.,  ..., 0., 0., 0.],\n",
       "           [0., 0., 0.,  ..., 0., 0., 0.],\n",
       "           [0., 0., 0.,  ..., 0., 0., 0.]]],\n",
       " \n",
       " \n",
       "         ...,\n",
       " \n",
       " \n",
       "         [[[0., 0., 0.,  ..., 0., 0., 0.],\n",
       "           [0., 0., 0.,  ..., 0., 0., 0.],\n",
       "           [0., 0., 0.,  ..., 0., 0., 0.],\n",
       "           ...,\n",
       "           [0., 0., 0.,  ..., 0., 0., 0.],\n",
       "           [0., 0., 0.,  ..., 0., 0., 0.],\n",
       "           [0., 0., 0.,  ..., 0., 0., 0.]]],\n",
       " \n",
       " \n",
       "         [[[0., 0., 0.,  ..., 0., 0., 0.],\n",
       "           [0., 0., 0.,  ..., 0., 0., 0.],\n",
       "           [0., 0., 0.,  ..., 0., 0., 0.],\n",
       "           ...,\n",
       "           [0., 0., 0.,  ..., 0., 0., 0.],\n",
       "           [0., 0., 0.,  ..., 0., 0., 0.],\n",
       "           [0., 0., 0.,  ..., 0., 0., 0.]]],\n",
       " \n",
       " \n",
       "         [[[0., 0., 0.,  ..., 0., 0., 0.],\n",
       "           [0., 0., 0.,  ..., 0., 0., 0.],\n",
       "           [0., 0., 0.,  ..., 0., 0., 0.],\n",
       "           ...,\n",
       "           [0., 0., 0.,  ..., 0., 0., 0.],\n",
       "           [0., 0., 0.,  ..., 0., 0., 0.],\n",
       "           [0., 0., 0.,  ..., 0., 0., 0.]]]]),\n",
       " tensor([3, 4, 4, 8, 5, 6, 7, 4, 1, 4, 9, 9, 6, 1, 0, 3, 2, 6, 3, 3, 7, 0, 8, 2,\n",
       "         5, 1, 2, 1, 4, 0, 6, 6, 8, 5, 5, 5, 8, 5, 0, 3, 5, 6, 0, 9, 7, 4, 4, 1,\n",
       "         4, 8, 2, 7, 9, 4, 5, 1, 9, 5, 1, 1, 3, 2, 6, 7])]"
      ]
     },
     "execution_count": 273,
     "metadata": {},
     "output_type": "execute_result"
    }
   ],
   "execution_count": 273
  },
  {
   "metadata": {
    "ExecuteTime": {
     "end_time": "2024-06-18T20:28:04.826636Z",
     "start_time": "2024-06-18T20:28:04.815224Z"
    }
   },
   "cell_type": "code",
   "source": [
    "train_features, train_labels = next(iter(train_dataloader))\n",
    "print(f\"no. of train features - {train_features.size()}\")\n",
    "print(f\"no. of train labels - {train_labels.size()}\")"
   ],
   "id": "7d37fc96ed7b79cd",
   "outputs": [
    {
     "name": "stdout",
     "output_type": "stream",
     "text": [
      "no. of train features - torch.Size([64, 1, 28, 28])\n",
      "no. of train labels - torch.Size([64])\n"
     ]
    }
   ],
   "execution_count": 274
  },
  {
   "metadata": {},
   "cell_type": "markdown",
   "source": [
    "## Model 1 : Fully Connected Model-\n",
    "    - model using only fully connected layers and no convolutional layers\n",
    "    - basically making a normal neural network to test its accuracy"
   ],
   "id": "4e319549cbb460c6"
  },
  {
   "metadata": {
    "ExecuteTime": {
     "end_time": "2024-06-18T20:28:04.833162Z",
     "start_time": "2024-06-18T20:28:04.827712Z"
    }
   },
   "cell_type": "code",
   "source": [
    "class MNISTv0(nn.Module):                                    # inhereting the parent class nn.module for our models, will do this in every model for pytorch\n",
    "    def __init__(self, input_shape:int, \n",
    "                 output_shape:int):\n",
    "        \"\"\"\n",
    "        initializes FashionMNIST model \n",
    "        \n",
    "        args:\n",
    "            input_shape (int): shape of input images\n",
    "            output_shape (int): shape of output images\n",
    "        \"\"\"\n",
    "        super().__init__()\n",
    "        \n",
    "        self.flatten = nn.Flatten()\n",
    "        self.layer1 = nn.Linear(in_features=input_shape, out_features=512, bias=True)                           # total number of parameters in this layer = (784+1)*(512) = 401920\n",
    "        self.layer2 = nn.Linear(in_features=512, out_features=256, bias=True)                                   # total number of parameters in this layer = (512+1)*256 = 131328\n",
    "        self.layer3 = nn.Linear(in_features=256, out_features=output_shape, bias=True)                          # total number of parameters in this layer = (256+1)*10 = 2570\n",
    "        self.relu = nn.ReLU()\n",
    "    \n",
    "    def forward(self, x:torch.Tensor)->torch.Tensor:\n",
    "        return self.layer3(self.relu(self.layer2(self.relu(self.layer1(self.flatten(x))))))"
   ],
   "id": "b21d8282ce5c3d5e",
   "outputs": [],
   "execution_count": 275
  },
  {
   "metadata": {
    "ExecuteTime": {
     "end_time": "2024-06-18T20:28:04.843715Z",
     "start_time": "2024-06-18T20:28:04.834406Z"
    }
   },
   "cell_type": "code",
   "source": [
    "model_0 = MNISTv0(input_shape=28*28, output_shape=len(class_names))\n",
    "model_0"
   ],
   "id": "2a09ec5fadec51c6",
   "outputs": [
    {
     "data": {
      "text/plain": [
       "MNISTv0(\n",
       "  (flatten): Flatten(start_dim=1, end_dim=-1)\n",
       "  (layer1): Linear(in_features=784, out_features=512, bias=True)\n",
       "  (layer2): Linear(in_features=512, out_features=256, bias=True)\n",
       "  (layer3): Linear(in_features=256, out_features=10, bias=True)\n",
       "  (relu): ReLU()\n",
       ")"
      ]
     },
     "execution_count": 276,
     "metadata": {},
     "output_type": "execute_result"
    }
   ],
   "execution_count": 276
  },
  {
   "metadata": {
    "ExecuteTime": {
     "end_time": "2024-06-18T20:28:04.848811Z",
     "start_time": "2024-06-18T20:28:04.844895Z"
    }
   },
   "cell_type": "code",
   "source": "sum(p.numel() for p in model_0.parameters() if p.requires_grad)                                # total numebr of parameters for this model = 401920+131328+2570 = 535818\n",
   "id": "25d29cab1469fb44",
   "outputs": [
    {
     "data": {
      "text/plain": [
       "535818"
      ]
     },
     "execution_count": 277,
     "metadata": {},
     "output_type": "execute_result"
    }
   ],
   "execution_count": 277
  },
  {
   "metadata": {
    "ExecuteTime": {
     "end_time": "2024-06-18T20:28:04.854440Z",
     "start_time": "2024-06-18T20:28:04.849988Z"
    }
   },
   "cell_type": "code",
   "source": [
    "from torchsummary import summary\n",
    "input_shape = 784\n",
    "summary(model_0, input_size=(1, input_shape))"
   ],
   "id": "521447736d7b02e9",
   "outputs": [
    {
     "name": "stdout",
     "output_type": "stream",
     "text": [
      "----------------------------------------------------------------\n",
      "        Layer (type)               Output Shape         Param #\n",
      "================================================================\n",
      "           Flatten-1                  [-1, 784]               0\n",
      "            Linear-2                  [-1, 512]         401,920\n",
      "              ReLU-3                  [-1, 512]               0\n",
      "            Linear-4                  [-1, 256]         131,328\n",
      "              ReLU-5                  [-1, 256]               0\n",
      "            Linear-6                   [-1, 10]           2,570\n",
      "================================================================\n",
      "Total params: 535,818\n",
      "Trainable params: 535,818\n",
      "Non-trainable params: 0\n",
      "----------------------------------------------------------------\n",
      "Input size (MB): 0.00\n",
      "Forward/backward pass size (MB): 0.02\n",
      "Params size (MB): 2.04\n",
      "Estimated Total Size (MB): 2.06\n",
      "----------------------------------------------------------------\n"
     ]
    }
   ],
   "execution_count": 278
  },
  {
   "metadata": {},
   "cell_type": "markdown",
   "source": "## Initializing the optimizer and the loss function for the model training",
   "id": "a987202579cf799d"
  },
  {
   "metadata": {
    "ExecuteTime": {
     "end_time": "2024-06-18T20:28:04.860079Z",
     "start_time": "2024-06-18T20:28:04.857107Z"
    }
   },
   "cell_type": "code",
   "source": [
    "from sklearn.metrics import accuracy_score\n",
    "optimizer = torch.optim.SGD(model_0.parameters(), lr = 0.01)\n",
    "loss_fn = nn.CrossEntropyLoss()"
   ],
   "id": "acf5d9807553fbc8",
   "outputs": [],
   "execution_count": 279
  },
  {
   "metadata": {
    "ExecuteTime": {
     "end_time": "2024-06-18T20:28:04.863846Z",
     "start_time": "2024-06-18T20:28:04.861014Z"
    }
   },
   "cell_type": "code",
   "source": [
    "def accuracy_fn(y_true, y_pred):\n",
    "    correct = (y_true == y_pred).sum().item()\n",
    "    return correct / len(y_true) * 100"
   ],
   "id": "3978484517be36a0",
   "outputs": [],
   "execution_count": 280
  },
  {
   "metadata": {},
   "cell_type": "markdown",
   "source": "### Building Training and testing loops and functionsa",
   "id": "cf45319ad31be899"
  },
  {
   "metadata": {
    "ExecuteTime": {
     "end_time": "2024-06-18T20:28:04.868920Z",
     "start_time": "2024-06-18T20:28:04.864645Z"
    }
   },
   "cell_type": "code",
   "source": [
    "def train_step(model: torch.nn.Module,\n",
    "               data_loader: torch.utils.data.DataLoader,\n",
    "               loss_fn: torch.nn.Module,\n",
    "               optimizer: torch.optim.Optimizer,\n",
    "               accuracy_fn,\n",
    "               device: torch.device):\n",
    "    \n",
    "    model.train()  # Set the model to training mode\n",
    "    train_loss, train_acc = 0, 0\n",
    "    for batch, (X, y) in enumerate(data_loader):\n",
    "        y_pred = model(X)\n",
    "        \n",
    "        loss = loss_fn(y_pred, y)\n",
    "        \n",
    "        train_loss += loss.item()  # Convert to scalar and accumulate\n",
    "        train_acc += accuracy_fn(y_true=y,\n",
    "                                 y_pred=y_pred.argmax(dim=1))  # Go from logits -> pred labels\n",
    "        \n",
    "        optimizer.zero_grad()\n",
    "        loss.backward()\n",
    "        optimizer.step()\n",
    "    \n",
    "    train_loss /= len(data_loader)\n",
    "    train_acc /= len(data_loader)\n",
    "    return train_loss, train_acc"
   ],
   "id": "1fe33e437aebad14",
   "outputs": [],
   "execution_count": 281
  },
  {
   "metadata": {
    "ExecuteTime": {
     "end_time": "2024-06-18T20:28:04.876414Z",
     "start_time": "2024-06-18T20:28:04.870287Z"
    }
   },
   "cell_type": "code",
   "source": [
    "def val_step(data_loader: torch.utils.data.DataLoader,\n",
    "             model: torch.nn.Module,\n",
    "             loss_fn: torch.nn.Module,\n",
    "             accuracy_fn,\n",
    "             device: torch.device):\n",
    "    \n",
    "    model.eval()  # Set the model to evaluation mode\n",
    "    val_loss, val_acc = 0, 0\n",
    "\n",
    "    with torch.inference_mode():  # Disable gradient computation\n",
    "        for X, y in data_loader:\n",
    "            val_pred = model(X)  # Perform a forward pass through the model\n",
    "            \n",
    "            # Calculate loss and accuracy\n",
    "            val_loss += loss_fn(val_pred, y).item()\n",
    "            val_acc += accuracy_fn(y_true=y,\n",
    "                                   y_pred=val_pred.argmax(dim=1))  # Go from logits -> pred labels\n",
    "    \n",
    "    val_loss /= len(data_loader)\n",
    "    val_acc /= len(data_loader)\n",
    "    \n",
    "    return val_loss, val_acc"
   ],
   "id": "78b9b3cb94959f70",
   "outputs": [],
   "execution_count": 282
  },
  {
   "metadata": {
    "ExecuteTime": {
     "end_time": "2024-06-18T20:28:04.883100Z",
     "start_time": "2024-06-18T20:28:04.877555Z"
    }
   },
   "cell_type": "code",
   "source": [
    "def test_step(data_loader: torch.utils.data.DataLoader,\n",
    "              model: torch.nn.Module,\n",
    "              loss_fn: torch.nn.Module,\n",
    "              accuracy_fn,\n",
    "              device: torch.device):\n",
    "    test_loss, test_acc = 0, 0\n",
    "    \n",
    "    model.eval()  # Set the model to evaluation mode\n",
    "    with torch.inference_mode():  # Disable gradient computation\n",
    "        for X, y in data_loader:\n",
    "            test_pred = model(X)\n",
    "            \n",
    "            # Calculate loss and accuracy\n",
    "            test_loss += loss_fn(test_pred, y) # Convert to scalar and accumulate\n",
    "            test_acc += accuracy_fn(y_true=y,\n",
    "                                    y_pred=test_pred.argmax(dim=1))  # Go from logits -> pred labels\n",
    "        \n",
    "        # Adjust metrics and print out\n",
    "        test_loss /= len(data_loader)\n",
    "        test_acc /= len(data_loader)\n",
    "    return test_loss, test_acc"
   ],
   "id": "68201b4d7d1f4b1f",
   "outputs": [],
   "execution_count": 283
  },
  {
   "metadata": {},
   "cell_type": "markdown",
   "source": "## Training our first fully connected network",
   "id": "b761eaaa40397926"
  },
  {
   "metadata": {
    "ExecuteTime": {
     "end_time": "2024-06-18T20:29:18.382131Z",
     "start_time": "2024-06-18T20:28:04.883940Z"
    }
   },
   "cell_type": "code",
   "source": [
    "torch.manual_seed(42)\n",
    "from tqdm import tqdm\n",
    "\n",
    "# Training loop\n",
    "epochs = 10\n",
    "best_val_loss = float('inf')\n",
    "\n",
    "for epoch in tqdm(range(epochs)):\n",
    "    train_loss, train_accuracy = train_step(model=model_0, data_loader=train_dataloader, loss_fn=loss_fn, accuracy_fn=accuracy_fn, optimizer=optimizer, device=device)\n",
    "    \n",
    "    val_loss, val_accuracy = val_step(data_loader=val_dataloader, model=model_0, loss_fn=loss_fn, accuracy_fn=accuracy_fn, device=device)\n",
    "    \n",
    "    print(f'Epoch {epoch+1}/{epochs}, '\n",
    "          f'Train Loss: {train_loss:.4f}, Train Accuracy: {train_accuracy:.2f}%, '\n",
    "          f'Val Loss: {val_loss:.4f}, Val Accuracy: {val_accuracy:.2f}%')\n",
    "    \n",
    "    # Save the model if it has the best validation loss so far\n",
    "    if val_loss < best_val_loss:\n",
    "        best_val_loss = val_loss\n",
    "        torch.save(model_0.state_dict(), 'best_model_fcc1.pth')\n",
    "\n"
   ],
   "id": "dccbd24db26887a4",
   "outputs": [
    {
     "name": "stderr",
     "output_type": "stream",
     "text": [
      " 10%|█         | 1/10 [00:07<01:10,  7.85s/it]"
     ]
    },
    {
     "name": "stdout",
     "output_type": "stream",
     "text": [
      "Epoch 1/10, Train Loss: 1.8085, Train Accuracy: 59.91%, Val Loss: 0.9270, Val Accuracy: 81.03%\n"
     ]
    },
    {
     "name": "stderr",
     "output_type": "stream",
     "text": [
      " 20%|██        | 2/10 [00:14<00:57,  7.24s/it]"
     ]
    },
    {
     "name": "stdout",
     "output_type": "stream",
     "text": [
      "Epoch 2/10, Train Loss: 0.6218, Train Accuracy: 84.60%, Val Loss: 0.4729, Val Accuracy: 87.35%\n"
     ]
    },
    {
     "name": "stderr",
     "output_type": "stream",
     "text": [
      " 30%|███       | 3/10 [00:21<00:50,  7.15s/it]"
     ]
    },
    {
     "name": "stdout",
     "output_type": "stream",
     "text": [
      "Epoch 3/10, Train Loss: 0.4194, Train Accuracy: 88.45%, Val Loss: 0.3826, Val Accuracy: 89.28%\n"
     ]
    },
    {
     "name": "stderr",
     "output_type": "stream",
     "text": [
      " 40%|████      | 4/10 [00:28<00:41,  6.95s/it]"
     ]
    },
    {
     "name": "stdout",
     "output_type": "stream",
     "text": [
      "Epoch 4/10, Train Loss: 0.3576, Train Accuracy: 89.95%, Val Loss: 0.3438, Val Accuracy: 90.27%\n"
     ]
    },
    {
     "name": "stderr",
     "output_type": "stream",
     "text": [
      " 50%|█████     | 5/10 [00:34<00:34,  6.84s/it]"
     ]
    },
    {
     "name": "stdout",
     "output_type": "stream",
     "text": [
      "Epoch 5/10, Train Loss: 0.3239, Train Accuracy: 90.86%, Val Loss: 0.3196, Val Accuracy: 90.92%\n"
     ]
    },
    {
     "name": "stderr",
     "output_type": "stream",
     "text": [
      " 60%|██████    | 6/10 [00:42<00:28,  7.10s/it]"
     ]
    },
    {
     "name": "stdout",
     "output_type": "stream",
     "text": [
      "Epoch 6/10, Train Loss: 0.2999, Train Accuracy: 91.48%, Val Loss: 0.2991, Val Accuracy: 91.46%\n"
     ]
    },
    {
     "name": "stderr",
     "output_type": "stream",
     "text": [
      " 70%|███████   | 7/10 [00:50<00:21,  7.28s/it]"
     ]
    },
    {
     "name": "stdout",
     "output_type": "stream",
     "text": [
      "Epoch 7/10, Train Loss: 0.2806, Train Accuracy: 91.96%, Val Loss: 0.2849, Val Accuracy: 91.71%\n"
     ]
    },
    {
     "name": "stderr",
     "output_type": "stream",
     "text": [
      " 80%|████████  | 8/10 [00:57<00:14,  7.37s/it]"
     ]
    },
    {
     "name": "stdout",
     "output_type": "stream",
     "text": [
      "Epoch 8/10, Train Loss: 0.2644, Train Accuracy: 92.44%, Val Loss: 0.2731, Val Accuracy: 92.12%\n"
     ]
    },
    {
     "name": "stderr",
     "output_type": "stream",
     "text": [
      " 90%|█████████ | 9/10 [01:05<00:07,  7.53s/it]"
     ]
    },
    {
     "name": "stdout",
     "output_type": "stream",
     "text": [
      "Epoch 9/10, Train Loss: 0.2495, Train Accuracy: 92.91%, Val Loss: 0.2575, Val Accuracy: 92.59%\n"
     ]
    },
    {
     "name": "stderr",
     "output_type": "stream",
     "text": [
      "100%|██████████| 10/10 [01:13<00:00,  7.35s/it]"
     ]
    },
    {
     "name": "stdout",
     "output_type": "stream",
     "text": [
      "Epoch 10/10, Train Loss: 0.2361, Train Accuracy: 93.31%, Val Loss: 0.2475, Val Accuracy: 93.08%\n"
     ]
    },
    {
     "name": "stderr",
     "output_type": "stream",
     "text": [
      "\n"
     ]
    }
   ],
   "execution_count": 284
  },
  {
   "metadata": {
    "ExecuteTime": {
     "end_time": "2024-06-18T20:29:18.386024Z",
     "start_time": "2024-06-18T20:29:18.383143Z"
    }
   },
   "cell_type": "code",
   "source": "",
   "id": "b50411f1844ee6ba",
   "outputs": [],
   "execution_count": 284
  },
  {
   "metadata": {
    "ExecuteTime": {
     "end_time": "2024-06-18T20:29:20.907477Z",
     "start_time": "2024-06-18T20:29:18.387133Z"
    }
   },
   "cell_type": "code",
   "source": [
    "\n",
    "# for testing \n",
    "# Load the best model for testing\n",
    "model_0.load_state_dict(torch.load('best_model_fcc1.pth'))\n",
    "test_loss, test_accuracy = test_step(data_loader=test_dataloader, model=model_0, loss_fn=loss_fn, accuracy_fn=accuracy_fn, device=device)\n",
    "print(f'Test Loss: {test_loss:.4f}, Test Accuracy: {test_accuracy:.2f}%')"
   ],
   "id": "39302459700fcf6",
   "outputs": [
    {
     "name": "stdout",
     "output_type": "stream",
     "text": [
      "Test Loss: 0.2291, Test Accuracy: 93.47%\n"
     ]
    }
   ],
   "execution_count": 285
  },
  {
   "metadata": {},
   "cell_type": "markdown",
   "source": "## using K Fold validation",
   "id": "1cde876428e51d42"
  },
  {
   "metadata": {
    "ExecuteTime": {
     "end_time": "2024-06-18T20:29:20.912568Z",
     "start_time": "2024-06-18T20:29:20.909686Z"
    }
   },
   "cell_type": "code",
   "source": [
    "from sklearn.model_selection import KFold\n",
    "k_folds = 5\n",
    "kf = KFold(n_splits=k_folds, shuffle=True)\n",
    "num_epochs = 5\n"
   ],
   "id": "b74a76927487b597",
   "outputs": [],
   "execution_count": 286
  },
  {
   "metadata": {
    "ExecuteTime": {
     "end_time": "2024-06-18T20:32:53.314181Z",
     "start_time": "2024-06-18T20:29:20.914011Z"
    }
   },
   "cell_type": "code",
   "source": [
    "# Define empty lists to store losses and accuracies\n",
    "training_losses = []\n",
    "validation_losses = []\n",
    "\n",
    "\n",
    "# Training loop for k-fold cross-validation\n",
    "for fold, (train_indices, val_indices) in enumerate(kf.split(train_val_data)):\n",
    "    print(f'Fold {fold + 1}/{k_folds}')\n",
    "    \n",
    "    # Initialize model, optimizer, criterion for each fold\n",
    "    model = MNISTv0(input_shape= 784, output_shape=10)\n",
    "    optimizer = torch.optim.SGD(model.parameters(), lr=0.01)\n",
    "    criterion = nn.CrossEntropyLoss()\n",
    "    \n",
    "    fold_training_losses = []\n",
    "    fold_validation_losses = []\n",
    "\n",
    "\n",
    "    train_sampler = torch.utils.data.SubsetRandomSampler(train_indices)\n",
    "    val_sampler = torch.utils.data.SubsetRandomSampler(val_indices)\n",
    "    \n",
    "    train_loader = DataLoader(dataset=train_val_data, batch_size=64, sampler=train_sampler)\n",
    "    val_loader = DataLoader(dataset=train_val_data, sampler=val_sampler)\n",
    "    \n",
    "    for epoch in range(num_epochs):\n",
    "        # Reset model parameters for each epoch\n",
    "        model.train()\n",
    "        optimizer.zero_grad()\n",
    "        \n",
    "        train_loss, train_accuracy = train_step(model=model, data_loader=train_loader, loss_fn=loss_fn, accuracy_fn=accuracy_fn, optimizer=optimizer, device=device)\n",
    "        val_loss, val_accuracy = val_step(data_loader=val_loader, model=model, loss_fn=loss_fn, accuracy_fn=accuracy_fn, device=device)\n",
    "        \n",
    "        fold_training_losses.append(train_loss)\n",
    "        fold_validation_losses.append(val_loss)\n",
    " \n",
    "        print(f'Epoch {epoch+1}/{num_epochs}, '\n",
    "              f'Train Loss: {train_loss:.4f}, Train Accuracy: {train_accuracy:.2f}%, '\n",
    "              f'Val Loss: {val_loss:.4f}, Val Accuracy: {val_accuracy:.2f}%')\n",
    "    \n",
    "    training_losses.append(fold_training_losses)\n",
    "    validation_losses.append(fold_validation_losses)\n",
    "\n",
    "\n",
    "print('K-fold cross-validation completed.')\n"
   ],
   "id": "c2a31dd00e565ec2",
   "outputs": [
    {
     "name": "stdout",
     "output_type": "stream",
     "text": [
      "Fold 1/5\n",
      "Epoch 1/5, Train Loss: 1.7765, Train Accuracy: 62.74%, Val Loss: 0.9104, Val Accuracy: 79.90%\n",
      "Epoch 2/5, Train Loss: 0.6179, Train Accuracy: 84.59%, Val Loss: 0.4653, Val Accuracy: 87.28%\n",
      "Epoch 3/5, Train Loss: 0.4188, Train Accuracy: 88.49%, Val Loss: 0.3780, Val Accuracy: 89.45%\n",
      "Epoch 4/5, Train Loss: 0.3585, Train Accuracy: 89.87%, Val Loss: 0.3384, Val Accuracy: 90.12%\n",
      "Epoch 5/5, Train Loss: 0.3261, Train Accuracy: 90.73%, Val Loss: 0.3153, Val Accuracy: 90.87%\n",
      "Fold 2/5\n",
      "Epoch 1/5, Train Loss: 1.7649, Train Accuracy: 61.13%, Val Loss: 0.8933, Val Accuracy: 80.30%\n",
      "Epoch 2/5, Train Loss: 0.6113, Train Accuracy: 84.59%, Val Loss: 0.4725, Val Accuracy: 87.38%\n",
      "Epoch 3/5, Train Loss: 0.4197, Train Accuracy: 88.43%, Val Loss: 0.3879, Val Accuracy: 89.36%\n",
      "Epoch 4/5, Train Loss: 0.3595, Train Accuracy: 89.75%, Val Loss: 0.3484, Val Accuracy: 90.55%\n",
      "Epoch 5/5, Train Loss: 0.3259, Train Accuracy: 90.70%, Val Loss: 0.3222, Val Accuracy: 91.18%\n",
      "Fold 3/5\n",
      "Epoch 1/5, Train Loss: 1.8173, Train Accuracy: 60.17%, Val Loss: 0.9488, Val Accuracy: 80.60%\n",
      "Epoch 2/5, Train Loss: 0.6265, Train Accuracy: 84.50%, Val Loss: 0.4751, Val Accuracy: 86.96%\n",
      "Epoch 3/5, Train Loss: 0.4188, Train Accuracy: 88.45%, Val Loss: 0.3820, Val Accuracy: 89.47%\n",
      "Epoch 4/5, Train Loss: 0.3593, Train Accuracy: 89.80%, Val Loss: 0.3430, Val Accuracy: 90.42%\n",
      "Epoch 5/5, Train Loss: 0.3264, Train Accuracy: 90.72%, Val Loss: 0.3167, Val Accuracy: 91.16%\n",
      "Fold 4/5\n",
      "Epoch 1/5, Train Loss: 1.8537, Train Accuracy: 57.75%, Val Loss: 0.9900, Val Accuracy: 79.12%\n",
      "Epoch 2/5, Train Loss: 0.6479, Train Accuracy: 83.88%, Val Loss: 0.4925, Val Accuracy: 86.56%\n",
      "Epoch 3/5, Train Loss: 0.4295, Train Accuracy: 88.21%, Val Loss: 0.3969, Val Accuracy: 88.62%\n",
      "Epoch 4/5, Train Loss: 0.3656, Train Accuracy: 89.72%, Val Loss: 0.3545, Val Accuracy: 89.69%\n",
      "Epoch 5/5, Train Loss: 0.3314, Train Accuracy: 90.53%, Val Loss: 0.3276, Val Accuracy: 90.44%\n",
      "Fold 5/5\n",
      "Epoch 1/5, Train Loss: 1.8021, Train Accuracy: 59.72%, Val Loss: 0.9395, Val Accuracy: 79.68%\n",
      "Epoch 2/5, Train Loss: 0.6279, Train Accuracy: 84.17%, Val Loss: 0.4789, Val Accuracy: 86.94%\n",
      "Epoch 3/5, Train Loss: 0.4215, Train Accuracy: 88.47%, Val Loss: 0.3828, Val Accuracy: 89.12%\n",
      "Epoch 4/5, Train Loss: 0.3611, Train Accuracy: 90.00%, Val Loss: 0.3437, Val Accuracy: 90.03%\n",
      "Epoch 5/5, Train Loss: 0.3292, Train Accuracy: 90.61%, Val Loss: 0.3194, Val Accuracy: 90.74%\n",
      "K-fold cross-validation completed.\n"
     ]
    }
   ],
   "execution_count": 287
  },
  {
   "metadata": {
    "ExecuteTime": {
     "end_time": "2024-06-18T20:32:53.317935Z",
     "start_time": "2024-06-18T20:32:53.315422Z"
    }
   },
   "cell_type": "code",
   "source": "",
   "id": "4bc65455693d0dbf",
   "outputs": [],
   "execution_count": 287
  },
  {
   "metadata": {
    "ExecuteTime": {
     "end_time": "2024-06-18T20:32:55.908826Z",
     "start_time": "2024-06-18T20:32:53.319331Z"
    }
   },
   "cell_type": "code",
   "source": [
    "test_loss, test_accuracy = test_step(data_loader=test_dataloader, model=model, loss_fn=loss_fn, accuracy_fn=accuracy_fn, device=device)\n",
    "print(f'Test Loss: {test_loss:.4f}, Test Accuracy: {test_accuracy:.2f}%')"
   ],
   "id": "c53b8336b977e2bc",
   "outputs": [
    {
     "name": "stdout",
     "output_type": "stream",
     "text": [
      "Test Loss: 0.3036, Test Accuracy: 91.29%\n"
     ]
    }
   ],
   "execution_count": 288
  },
  {
   "metadata": {},
   "cell_type": "markdown",
   "source": [
    "## Model 2 : Comvolutional Neural Network\n",
    "    - model using convo2d layers and fully connected layers\n",
    "    - the conv blocks with the max pooling is used to extract useful features and along with that decrease the number of parameters the fully connected layer has to process resulting in lesser computational usage "
   ],
   "id": "3e5990586845e511"
  },
  {
   "metadata": {
    "ExecuteTime": {
     "end_time": "2024-06-18T20:32:55.930339Z",
     "start_time": "2024-06-18T20:32:55.912638Z"
    }
   },
   "cell_type": "code",
   "source": [
    "class MNISTv1(nn.Module):\n",
    "    def __init__(self, output_shape: int):\n",
    "        super(MNISTv1, self).__init__()\n",
    "        \"\"\"\n",
    "        Initializes the MNIST model\n",
    "        \n",
    "        Args:\n",
    "            output_shape (int): shape of output (number of classes)\n",
    "        \"\"\"\n",
    "        self.conv_layer_stack = nn.Sequential(\n",
    "            nn.Conv2d(in_channels=1, out_channels=64, kernel_size=3, padding=1, stride=1),  # params = (kernel size +1)*no. of filters = (9+1)*64\n",
    "            nn.ReLU(),\n",
    "            nn.Conv2d(in_channels=64, out_channels=128, kernel_size=3, padding=1, stride=1), # Number of weights=in_channels×out_channels×kernel_height×kernel_width\n",
    "                                                                                             # 64*128*3*3 = 73728\n",
    "                                                                                             # params = number of weights + number of bias = 73728 + 128 = 73,856\n",
    "            nn.ReLU(),\n",
    "            nn.MaxPool2d(kernel_size=2, stride=2)  \n",
    "        )\n",
    "        self.conv_layer_stack2 = nn.Sequential(\n",
    "            nn.Conv2d(in_channels=128, out_channels=64, kernel_size=3, padding=1, stride=1), # 128*64*3*3 + 64 = 73,792\n",
    "            nn.ReLU(),\n",
    "            nn.Conv2d(in_channels=64, out_channels=32, kernel_size=3, padding=1, stride=1), #64*32*3*3 + 32 = 18,464\n",
    "            nn.ReLU(),\n",
    "            nn.MaxPool2d(kernel_size=2, stride=2)  \n",
    "        )\n",
    "        self.flatten = nn.Flatten()\n",
    "        self.fcc = nn.Sequential(\n",
    "            nn.Linear(in_features=32 * 7 * 7, out_features=128), # params = 32×7×7=1568*128 = 200704+128 = 200832\n",
    "            nn.ReLU(),\n",
    "            nn.Linear(in_features=128, out_features=64), # params = (128+1)*64 = 8256\n",
    "            nn.ReLU(),\n",
    "            nn.Linear(in_features=64, out_features=output_shape) # params = (64+1)*10 = 650\n",
    "        )\n",
    "        \n",
    "    def forward(self, x: torch.Tensor) -> torch.Tensor:\n",
    "        x = self.conv_layer_stack(x)\n",
    "        x = self.conv_layer_stack2(x)\n",
    "        x = self.flatten(x)\n",
    "        x = self.fcc(x)\n",
    "        return x\n",
    "\n",
    "# Example usage\n",
    "model_1 = MNISTv1(output_shape=10)\n",
    "print(model_1)\n",
    "\n",
    "\n"
   ],
   "id": "314d1fbf20436746",
   "outputs": [
    {
     "name": "stdout",
     "output_type": "stream",
     "text": [
      "MNISTv1(\n",
      "  (conv_layer_stack): Sequential(\n",
      "    (0): Conv2d(1, 64, kernel_size=(3, 3), stride=(1, 1), padding=(1, 1))\n",
      "    (1): ReLU()\n",
      "    (2): Conv2d(64, 128, kernel_size=(3, 3), stride=(1, 1), padding=(1, 1))\n",
      "    (3): ReLU()\n",
      "    (4): MaxPool2d(kernel_size=2, stride=2, padding=0, dilation=1, ceil_mode=False)\n",
      "  )\n",
      "  (conv_layer_stack2): Sequential(\n",
      "    (0): Conv2d(128, 64, kernel_size=(3, 3), stride=(1, 1), padding=(1, 1))\n",
      "    (1): ReLU()\n",
      "    (2): Conv2d(64, 32, kernel_size=(3, 3), stride=(1, 1), padding=(1, 1))\n",
      "    (3): ReLU()\n",
      "    (4): MaxPool2d(kernel_size=2, stride=2, padding=0, dilation=1, ceil_mode=False)\n",
      "  )\n",
      "  (flatten): Flatten(start_dim=1, end_dim=-1)\n",
      "  (fcc): Sequential(\n",
      "    (0): Linear(in_features=1568, out_features=128, bias=True)\n",
      "    (1): ReLU()\n",
      "    (2): Linear(in_features=128, out_features=64, bias=True)\n",
      "    (3): ReLU()\n",
      "    (4): Linear(in_features=64, out_features=10, bias=True)\n",
      "  )\n",
      ")\n"
     ]
    }
   ],
   "execution_count": 289
  },
  {
   "metadata": {
    "ExecuteTime": {
     "end_time": "2024-06-18T20:32:56.029652Z",
     "start_time": "2024-06-18T20:32:55.931619Z"
    }
   },
   "cell_type": "code",
   "source": [
    "from torchsummary import summary\n",
    "input_shape = (1,28,28)\n",
    "summary(model_1, input_size=input_shape)"
   ],
   "id": "bbcce0baf1c8885a",
   "outputs": [
    {
     "name": "stdout",
     "output_type": "stream",
     "text": [
      "----------------------------------------------------------------\n",
      "        Layer (type)               Output Shape         Param #\n",
      "================================================================\n",
      "            Conv2d-1           [-1, 64, 28, 28]             640\n",
      "              ReLU-2           [-1, 64, 28, 28]               0\n",
      "            Conv2d-3          [-1, 128, 28, 28]          73,856\n",
      "              ReLU-4          [-1, 128, 28, 28]               0\n",
      "         MaxPool2d-5          [-1, 128, 14, 14]               0\n",
      "            Conv2d-6           [-1, 64, 14, 14]          73,792\n",
      "              ReLU-7           [-1, 64, 14, 14]               0\n",
      "            Conv2d-8           [-1, 32, 14, 14]          18,464\n",
      "              ReLU-9           [-1, 32, 14, 14]               0\n",
      "        MaxPool2d-10             [-1, 32, 7, 7]               0\n",
      "          Flatten-11                 [-1, 1568]               0\n",
      "           Linear-12                  [-1, 128]         200,832\n",
      "             ReLU-13                  [-1, 128]               0\n",
      "           Linear-14                   [-1, 64]           8,256\n",
      "             ReLU-15                   [-1, 64]               0\n",
      "           Linear-16                   [-1, 10]             650\n",
      "================================================================\n",
      "Total params: 376,490\n",
      "Trainable params: 376,490\n",
      "Non-trainable params: 0\n",
      "----------------------------------------------------------------\n",
      "Input size (MB): 0.00\n",
      "Forward/backward pass size (MB): 2.80\n",
      "Params size (MB): 1.44\n",
      "Estimated Total Size (MB): 4.24\n",
      "----------------------------------------------------------------\n"
     ]
    }
   ],
   "execution_count": 290
  },
  {
   "metadata": {
    "ExecuteTime": {
     "end_time": "2024-06-18T20:32:56.035088Z",
     "start_time": "2024-06-18T20:32:56.030840Z"
    }
   },
   "cell_type": "code",
   "source": [
    "optimizer = torch.optim.SGD(model_1.parameters(), lr = 0.01)\n",
    "loss_fn = nn.CrossEntropyLoss()"
   ],
   "id": "42fb0f8ca5e2b733",
   "outputs": [],
   "execution_count": 291
  },
  {
   "metadata": {
    "ExecuteTime": {
     "end_time": "2024-06-18T21:12:43.243720Z",
     "start_time": "2024-06-18T20:32:56.036504Z"
    }
   },
   "cell_type": "code",
   "source": [
    "torch.manual_seed(42)\n",
    "\n",
    "# Training loop\n",
    "epochs = 10\n",
    "best_val_loss = float('inf')\n",
    "\n",
    "for epoch in tqdm(range(epochs)):\n",
    "    train_loss, train_accuracy = train_step(model=model_1, data_loader=train_dataloader, loss_fn=loss_fn, accuracy_fn=accuracy_fn, optimizer=optimizer, device=device)\n",
    "    \n",
    "    val_loss, val_accuracy = val_step(data_loader=val_dataloader, model=model_1, loss_fn=loss_fn, accuracy_fn=accuracy_fn, device=device)\n",
    "    \n",
    "    print(f'Epoch {epoch+1}/{epochs}, '\n",
    "          f'Train Loss: {train_loss:.4f}, Train Accuracy: {train_accuracy:.2f}%, '\n",
    "          f'Val Loss: {val_loss:.4f}, Val Accuracy: {val_accuracy:.2f}%')\n",
    "    \n",
    "    # Save the model if it has the best validation loss so far\n",
    "    if val_loss < best_val_loss:\n",
    "        best_val_loss = val_loss\n",
    "        torch.save(model_0.state_dict(), 'best_model_cnn1.pth')\n",
    "\n"
   ],
   "id": "79b7c6b726101fa3",
   "outputs": [
    {
     "name": "stderr",
     "output_type": "stream",
     "text": [
      " 10%|█         | 1/10 [03:41<33:15, 221.71s/it]"
     ]
    },
    {
     "name": "stdout",
     "output_type": "stream",
     "text": [
      "Epoch 1/10, Train Loss: 2.3020, Train Accuracy: 10.78%, Val Loss: 2.3010, Val Accuracy: 10.69%\n"
     ]
    },
    {
     "name": "stderr",
     "output_type": "stream",
     "text": [
      " 20%|██        | 2/10 [07:53<31:54, 239.36s/it]"
     ]
    },
    {
     "name": "stdout",
     "output_type": "stream",
     "text": [
      "Epoch 2/10, Train Loss: 2.2983, Train Accuracy: 11.37%, Val Loss: 2.2954, Val Accuracy: 10.69%\n"
     ]
    },
    {
     "name": "stderr",
     "output_type": "stream",
     "text": [
      " 30%|███       | 3/10 [11:38<27:10, 232.98s/it]"
     ]
    },
    {
     "name": "stdout",
     "output_type": "stream",
     "text": [
      "Epoch 3/10, Train Loss: 1.7436, Train Accuracy: 40.98%, Val Loss: 0.5311, Val Accuracy: 83.88%\n"
     ]
    },
    {
     "name": "stderr",
     "output_type": "stream",
     "text": [
      " 40%|████      | 4/10 [15:38<23:33, 235.59s/it]"
     ]
    },
    {
     "name": "stdout",
     "output_type": "stream",
     "text": [
      "Epoch 4/10, Train Loss: 0.3657, Train Accuracy: 88.38%, Val Loss: 0.2697, Val Accuracy: 91.76%\n"
     ]
    },
    {
     "name": "stderr",
     "output_type": "stream",
     "text": [
      " 50%|█████     | 5/10 [19:31<19:34, 234.82s/it]"
     ]
    },
    {
     "name": "stdout",
     "output_type": "stream",
     "text": [
      "Epoch 5/10, Train Loss: 0.2168, Train Accuracy: 93.18%, Val Loss: 0.1628, Val Accuracy: 94.94%\n"
     ]
    },
    {
     "name": "stderr",
     "output_type": "stream",
     "text": [
      " 60%|██████    | 6/10 [23:41<15:59, 239.78s/it]"
     ]
    },
    {
     "name": "stdout",
     "output_type": "stream",
     "text": [
      "Epoch 6/10, Train Loss: 0.1502, Train Accuracy: 95.31%, Val Loss: 0.1267, Val Accuracy: 96.04%\n"
     ]
    },
    {
     "name": "stderr",
     "output_type": "stream",
     "text": [
      " 70%|███████   | 7/10 [27:16<11:35, 231.69s/it]"
     ]
    },
    {
     "name": "stdout",
     "output_type": "stream",
     "text": [
      "Epoch 7/10, Train Loss: 0.1149, Train Accuracy: 96.40%, Val Loss: 0.1045, Val Accuracy: 96.71%\n"
     ]
    },
    {
     "name": "stderr",
     "output_type": "stream",
     "text": [
      " 80%|████████  | 8/10 [31:20<07:51, 235.51s/it]"
     ]
    },
    {
     "name": "stdout",
     "output_type": "stream",
     "text": [
      "Epoch 8/10, Train Loss: 0.0928, Train Accuracy: 97.11%, Val Loss: 0.0932, Val Accuracy: 97.07%\n"
     ]
    },
    {
     "name": "stderr",
     "output_type": "stream",
     "text": [
      " 90%|█████████ | 9/10 [35:21<03:57, 237.49s/it]"
     ]
    },
    {
     "name": "stdout",
     "output_type": "stream",
     "text": [
      "Epoch 9/10, Train Loss: 0.0803, Train Accuracy: 97.51%, Val Loss: 0.0831, Val Accuracy: 97.41%\n"
     ]
    },
    {
     "name": "stderr",
     "output_type": "stream",
     "text": [
      "100%|██████████| 10/10 [39:47<00:00, 238.71s/it]"
     ]
    },
    {
     "name": "stdout",
     "output_type": "stream",
     "text": [
      "Epoch 10/10, Train Loss: 0.0702, Train Accuracy: 97.78%, Val Loss: 0.0700, Val Accuracy: 97.72%\n"
     ]
    },
    {
     "name": "stderr",
     "output_type": "stream",
     "text": [
      "\n"
     ]
    }
   ],
   "execution_count": 292
  },
  {
   "metadata": {
    "ExecuteTime": {
     "end_time": "2024-06-18T21:13:09.209916Z",
     "start_time": "2024-06-18T21:12:43.295069Z"
    }
   },
   "cell_type": "code",
   "source": [
    "\n",
    "# for testing \n",
    "# Load the best model for testing\n",
    "model_0.load_state_dict(torch.load('best_model_cnn1.pth'))\n",
    "test_loss, test_accuracy = test_step(data_loader=test_dataloader, model=model_1, loss_fn=loss_fn, accuracy_fn=accuracy_fn, device=device)\n",
    "print(f'Test Loss: {test_loss:.4f}, Test Accuracy: {test_accuracy:.2f}%')"
   ],
   "id": "f95b219673a29592",
   "outputs": [
    {
     "name": "stdout",
     "output_type": "stream",
     "text": [
      "Test Loss: 0.0589, Test Accuracy: 98.12%\n"
     ]
    }
   ],
   "execution_count": 293
  },
  {
   "metadata": {},
   "cell_type": "markdown",
   "source": "## using K fold Validation",
   "id": "4cdbcf00dbbaecf2"
  },
  {
   "metadata": {
    "ExecuteTime": {
     "end_time": "2024-06-18T21:13:09.228697Z",
     "start_time": "2024-06-18T21:13:09.213411Z"
    }
   },
   "cell_type": "code",
   "source": [
    "from sklearn.model_selection import KFold\n",
    "k_folds = 5\n",
    "kf = KFold(n_splits=k_folds, shuffle=True)\n",
    "num_epochs = 5\n"
   ],
   "id": "4676e07586152ca1",
   "outputs": [],
   "execution_count": 294
  },
  {
   "metadata": {
    "ExecuteTime": {
     "end_time": "2024-06-19T02:39:33.620687Z",
     "start_time": "2024-06-18T21:13:09.284701Z"
    }
   },
   "cell_type": "code",
   "source": [
    "# Define empty lists to store losses and accuracies\n",
    "training_losses = []\n",
    "validation_losses = []\n",
    "\n",
    "\n",
    "# Training loop for k-fold cross-validation\n",
    "for fold, (train_indices, val_indices) in enumerate(kf.split(train_val_data)):\n",
    "    print(f'Fold {fold + 1}/{k_folds}')\n",
    "    \n",
    "    # Initialize model, optimizer, criterion for each fold\n",
    "    model1 = MNISTv1(output_shape=10)\n",
    "    optimizer = torch.optim.SGD(model1.parameters(), lr=0.01)\n",
    "    criterion = nn.CrossEntropyLoss()\n",
    "    \n",
    "    fold_training_losses = []\n",
    "    fold_validation_losses = []\n",
    "\n",
    "\n",
    "    train_sampler = torch.utils.data.SubsetRandomSampler(train_indices)\n",
    "    val_sampler = torch.utils.data.SubsetRandomSampler(val_indices)\n",
    "    \n",
    "    train_loader = DataLoader(dataset=train_val_data, batch_size=64, sampler=train_sampler)\n",
    "    val_loader = DataLoader(dataset=train_val_data, sampler=val_sampler)\n",
    "    \n",
    "    for epoch in range(num_epochs):\n",
    "        # Reset model parameters for each epoch\n",
    "        model1.train()\n",
    "        optimizer.zero_grad()\n",
    "        \n",
    "        train_loss, train_accuracy = train_step(model=model1, data_loader=train_loader, loss_fn=loss_fn, accuracy_fn=accuracy_fn, optimizer=optimizer, device=device)\n",
    "        val_loss, val_accuracy = val_step(data_loader=val_loader, model=model1, loss_fn=loss_fn, accuracy_fn=accuracy_fn, device=device)\n",
    "        \n",
    "        fold_training_losses.append(train_loss)\n",
    "        fold_validation_losses.append(val_loss)\n",
    " \n",
    "        print(f'Epoch {epoch+1}/{num_epochs}, '\n",
    "              f'Train Loss: {train_loss:.4f}, Train Accuracy: {train_accuracy:.2f}%, '\n",
    "              f'Val Loss: {val_loss:.4f}, Val Accuracy: {val_accuracy:.2f}%')\n",
    "    \n",
    "    training_losses.append(fold_training_losses)\n",
    "    validation_losses.append(fold_validation_losses)\n",
    "\n",
    "\n",
    "print('K-fold cross-validation completed.')\n"
   ],
   "id": "3e0a5336bcd35500",
   "outputs": [
    {
     "name": "stdout",
     "output_type": "stream",
     "text": [
      "Fold 1/5\n",
      "Epoch 1/5, Train Loss: 2.3016, Train Accuracy: 10.70%, Val Loss: 2.2997, Val Accuracy: 11.29%\n",
      "Epoch 2/5, Train Loss: 2.2978, Train Accuracy: 11.22%, Val Loss: 2.2929, Val Accuracy: 11.29%\n",
      "Epoch 3/5, Train Loss: 1.8534, Train Accuracy: 37.57%, Val Loss: 0.5588, Val Accuracy: 82.26%\n",
      "Epoch 4/5, Train Loss: 0.3874, Train Accuracy: 87.48%, Val Loss: 0.2944, Val Accuracy: 90.27%\n",
      "Epoch 5/5, Train Loss: 0.2282, Train Accuracy: 92.77%, Val Loss: 0.1844, Val Accuracy: 94.08%\n",
      "Fold 2/5\n",
      "Epoch 1/5, Train Loss: 2.3028, Train Accuracy: 10.68%, Val Loss: 2.3000, Val Accuracy: 11.31%\n",
      "Epoch 2/5, Train Loss: 2.2967, Train Accuracy: 11.22%, Val Loss: 2.2883, Val Accuracy: 11.31%\n",
      "Epoch 3/5, Train Loss: 1.4053, Train Accuracy: 53.20%, Val Loss: 0.4429, Val Accuracy: 84.12%\n",
      "Epoch 4/5, Train Loss: 0.3070, Train Accuracy: 90.24%, Val Loss: 0.2253, Val Accuracy: 93.19%\n",
      "Epoch 5/5, Train Loss: 0.1912, Train Accuracy: 93.93%, Val Loss: 0.1634, Val Accuracy: 94.88%\n",
      "Fold 3/5\n",
      "Epoch 1/5, Train Loss: 2.3027, Train Accuracy: 10.25%, Val Loss: 2.3000, Val Accuracy: 11.35%\n",
      "Epoch 2/5, Train Loss: 2.2944, Train Accuracy: 12.35%, Val Loss: 2.2801, Val Accuracy: 20.86%\n",
      "Epoch 3/5, Train Loss: 1.1671, Train Accuracy: 63.46%, Val Loss: 0.3455, Val Accuracy: 89.18%\n",
      "Epoch 4/5, Train Loss: 0.2988, Train Accuracy: 90.48%, Val Loss: 0.2459, Val Accuracy: 92.13%\n",
      "Epoch 5/5, Train Loss: 0.1939, Train Accuracy: 93.88%, Val Loss: 0.1617, Val Accuracy: 94.78%\n",
      "Fold 4/5\n",
      "Epoch 1/5, Train Loss: 2.3021, Train Accuracy: 10.81%, Val Loss: 2.3008, Val Accuracy: 10.93%\n",
      "Epoch 2/5, Train Loss: 2.3001, Train Accuracy: 11.31%, Val Loss: 2.2988, Val Accuracy: 10.93%\n",
      "Epoch 3/5, Train Loss: 2.2942, Train Accuracy: 11.31%, Val Loss: 2.2807, Val Accuracy: 10.93%\n",
      "Epoch 4/5, Train Loss: 1.1990, Train Accuracy: 61.15%, Val Loss: 0.3570, Val Accuracy: 88.88%\n",
      "Epoch 5/5, Train Loss: 0.2666, Train Accuracy: 91.50%, Val Loss: 0.1978, Val Accuracy: 93.86%\n",
      "Fold 5/5\n",
      "Epoch 1/5, Train Loss: 2.3027, Train Accuracy: 10.53%, Val Loss: 2.3005, Val Accuracy: 11.32%\n",
      "Epoch 2/5, Train Loss: 2.2964, Train Accuracy: 11.22%, Val Loss: 2.2875, Val Accuracy: 11.32%\n",
      "Epoch 3/5, Train Loss: 1.3763, Train Accuracy: 56.55%, Val Loss: 0.4757, Val Accuracy: 84.00%\n",
      "Epoch 4/5, Train Loss: 0.3200, Train Accuracy: 89.78%, Val Loss: 0.2334, Val Accuracy: 92.81%\n",
      "Epoch 5/5, Train Loss: 0.2023, Train Accuracy: 93.68%, Val Loss: 0.1592, Val Accuracy: 95.24%\n",
      "K-fold cross-validation completed.\n"
     ]
    }
   ],
   "execution_count": 295
  },
  {
   "metadata": {
    "ExecuteTime": {
     "end_time": "2024-06-19T02:39:58.504430Z",
     "start_time": "2024-06-19T02:39:33.630684Z"
    }
   },
   "cell_type": "code",
   "source": [
    "test_loss, test_accuracy = test_step(data_loader=test_dataloader, model=model1, loss_fn=loss_fn, accuracy_fn=accuracy_fn, device=device)\n",
    "print(f'Test Loss: {test_loss:.4f}, Test Accuracy: {test_accuracy:.2f}%')"
   ],
   "id": "80d57945bc54922a",
   "outputs": [
    {
     "name": "stdout",
     "output_type": "stream",
     "text": [
      "Test Loss: 0.1489, Test Accuracy: 95.24%\n"
     ]
    }
   ],
   "execution_count": 296
  },
  {
   "metadata": {},
   "cell_type": "markdown",
   "source": [
    "## Model 2 : Fully Convolutional Neural Network\n",
    "    - model using convo2d layers and fully connected layers\n",
    "    - the conv blocks with the max pooling is used to extract useful features and along with that decrease the number of parameters the fully connected layer has to process resulting in lesser computational usage "
   ],
   "id": "ea0798a4b55abcf8"
  },
  {
   "metadata": {
    "ExecuteTime": {
     "end_time": "2024-06-19T09:44:26.334614Z",
     "start_time": "2024-06-19T09:44:26.317202Z"
    }
   },
   "cell_type": "code",
   "source": [
    "import torch\n",
    "from torch import nn\n",
    "class MNISTv2(nn.Module):\n",
    "    def __init__(self, output_shape: int):\n",
    "        super(MNISTv2, self).__init__()\n",
    "        \"\"\"\n",
    "        Initializes the MNIST model\n",
    "        \n",
    "        Args:\n",
    "            output_shape (int): shape of output (number of classes)\n",
    "        \"\"\"\n",
    "        self.conv_stack = nn.Sequential(\n",
    "            nn.Conv2d(in_channels=1, out_channels=16, kernel_size=3),               # params = (1*16*3*3) = 144 +16 = 160\n",
    "            nn.ReLU(),\n",
    "            nn.Conv2d(in_channels=16, out_channels=32, kernel_size= 3),             # params = (16*32*3*) = 4608 + 32 = 4640\n",
    "            nn.ReLU(),\n",
    "            nn.MaxPool2d(kernel_size=(2,2))\n",
    "        )\n",
    "        \n",
    "        self.conv_stack2 = nn.Sequential(\n",
    "            nn.Conv2d(in_channels=32, out_channels=64, kernel_size=3),              # params = (32*64*3*3) = 18432 + 64 = 18496\n",
    "            nn.ReLU(),\n",
    "            nn.Conv2d(in_channels=64, out_channels=32, kernel_size=3),              # params = (32*64*3*3) = 18432 + 32 = 18464\n",
    "            nn.ReLU(),\n",
    "            nn.MaxPool2d((2,2))\n",
    "        )\n",
    "        self.conv_stack3 = nn.Sequential(\n",
    "            nn.Conv2d(in_channels=32, out_channels=16, kernel_size=3),                # params = 32×16×3×3=4608 + 16 = 4624\n",
    "            nn.ReLU(),\n",
    "            nn.Conv2d(in_channels=16, out_channels=output_shape, kernel_size=1),        # params = 16×10×1×1=160 +10 = 170\n",
    "            nn.ReLU()\n",
    "        )\n",
    "        \n",
    "    def forward(self, x:torch.Tensor)->torch.Tensor:\n",
    "        x = self.conv_stack3(self.conv_stack2(self.conv_stack(x)))\n",
    "        x = nn.Flatten(x.size(0), -1)\n",
    "        return x\n",
    "model_2 = MNISTv2(output_shape=10)\n",
    "model_22 = MNISTv2(output_shape=10)\n",
    "model_2"
   ],
   "id": "eaa617b75b59c239",
   "outputs": [
    {
     "data": {
      "text/plain": [
       "MNISTv2(\n",
       "  (conv_stack): Sequential(\n",
       "    (0): Conv2d(1, 16, kernel_size=(3, 3), stride=(1, 1))\n",
       "    (1): ReLU()\n",
       "    (2): Conv2d(16, 32, kernel_size=(3, 3), stride=(1, 1))\n",
       "    (3): ReLU()\n",
       "    (4): MaxPool2d(kernel_size=(2, 2), stride=(2, 2), padding=0, dilation=1, ceil_mode=False)\n",
       "  )\n",
       "  (conv_stack2): Sequential(\n",
       "    (0): Conv2d(32, 64, kernel_size=(3, 3), stride=(1, 1))\n",
       "    (1): ReLU()\n",
       "    (2): Conv2d(64, 32, kernel_size=(3, 3), stride=(1, 1))\n",
       "    (3): ReLU()\n",
       "    (4): MaxPool2d(kernel_size=(2, 2), stride=(2, 2), padding=0, dilation=1, ceil_mode=False)\n",
       "  )\n",
       "  (conv_stack3): Sequential(\n",
       "    (0): Conv2d(32, 16, kernel_size=(3, 3), stride=(1, 1))\n",
       "    (1): ReLU()\n",
       "    (2): Conv2d(16, 10, kernel_size=(1, 1), stride=(1, 1))\n",
       "    (3): ReLU()\n",
       "  )\n",
       ")"
      ]
     },
     "execution_count": 8,
     "metadata": {},
     "output_type": "execute_result"
    }
   ],
   "execution_count": 8
  },
  {
   "metadata": {
    "ExecuteTime": {
     "end_time": "2024-06-19T02:39:58.692336Z",
     "start_time": "2024-06-19T02:39:58.535167Z"
    }
   },
   "cell_type": "code",
   "source": [
    "input_shape = (1,28,28)\n",
    "summary(model_2, input_size=input_shape)"
   ],
   "id": "4b3dd58231599cde",
   "outputs": [
    {
     "name": "stdout",
     "output_type": "stream",
     "text": [
      "----------------------------------------------------------------\n",
      "        Layer (type)               Output Shape         Param #\n",
      "================================================================\n",
      "            Conv2d-1           [-1, 16, 26, 26]             160\n",
      "              ReLU-2           [-1, 16, 26, 26]               0\n",
      "            Conv2d-3           [-1, 32, 24, 24]           4,640\n",
      "              ReLU-4           [-1, 32, 24, 24]               0\n",
      "         MaxPool2d-5           [-1, 32, 12, 12]               0\n",
      "            Conv2d-6           [-1, 64, 10, 10]          18,496\n",
      "              ReLU-7           [-1, 64, 10, 10]               0\n",
      "            Conv2d-8             [-1, 32, 8, 8]          18,464\n",
      "              ReLU-9             [-1, 32, 8, 8]               0\n",
      "        MaxPool2d-10             [-1, 32, 4, 4]               0\n",
      "           Conv2d-11             [-1, 16, 2, 2]           4,624\n",
      "             ReLU-12             [-1, 16, 2, 2]               0\n",
      "           Conv2d-13             [-1, 10, 2, 2]             170\n",
      "             ReLU-14             [-1, 10, 2, 2]               0\n",
      "================================================================\n",
      "Total params: 46,554\n",
      "Trainable params: 46,554\n",
      "Non-trainable params: 0\n",
      "----------------------------------------------------------------\n",
      "Input size (MB): 0.00\n",
      "Forward/backward pass size (MB): 0.62\n",
      "Params size (MB): 0.18\n",
      "Estimated Total Size (MB): 0.80\n",
      "----------------------------------------------------------------\n"
     ]
    }
   ],
   "execution_count": 298
  },
  {
   "metadata": {
    "ExecuteTime": {
     "end_time": "2024-06-19T02:39:58.701318Z",
     "start_time": "2024-06-19T02:39:58.694198Z"
    }
   },
   "cell_type": "code",
   "source": [
    "optimizer = torch.optim.SGD(model_2.parameters(), lr = 0.01)\n",
    "loss_fn = nn.CrossEntropyLoss()"
   ],
   "id": "9611afe91e37c263",
   "outputs": [],
   "execution_count": 299
  },
  {
   "metadata": {
    "ExecuteTime": {
     "end_time": "2024-06-19T02:46:09.791310Z",
     "start_time": "2024-06-19T02:39:58.703902Z"
    }
   },
   "cell_type": "code",
   "source": [
    "torch.manual_seed(42)\n",
    "\n",
    "# Training loop\n",
    "epochs = 10\n",
    "best_val_loss = float('inf')\n",
    "\n",
    "for epoch in tqdm(range(epochs)):\n",
    "    train_loss, train_accuracy = train_step(model=model_2, data_loader=train_dataloader, loss_fn=loss_fn, accuracy_fn=accuracy_fn, optimizer=optimizer, device=device)\n",
    "    \n",
    "    val_loss, val_accuracy = val_step(data_loader=val_dataloader, model=model_2, loss_fn=loss_fn, accuracy_fn=accuracy_fn, device=device)\n",
    "    \n",
    "    print(f'Epoch {epoch+1}/{epochs}, '\n",
    "          f'Train Loss: {train_loss:.4f}, Train Accuracy: {train_accuracy:.2f}%, '\n",
    "          f'Val Loss: {val_loss:.4f}, Val Accuracy: {val_accuracy:.2f}%')\n",
    "    \n",
    "    # Save the model if it has the best validation loss so far\n",
    "    if val_loss < best_val_loss:\n",
    "        best_val_loss = val_loss\n",
    "        torch.save(model_0.state_dict(), 'best_model_fcn1.pth')\n",
    "\n"
   ],
   "id": "23bc084d3b2cf18",
   "outputs": [
    {
     "name": "stderr",
     "output_type": "stream",
     "text": [
      " 10%|█         | 1/10 [00:37<05:37, 37.48s/it]"
     ]
    },
    {
     "name": "stdout",
     "output_type": "stream",
     "text": [
      "Epoch 1/10, Train Loss: 2.3150, Train Accuracy: 27.16%, Val Loss: 1.4077, Val Accuracy: 54.33%\n"
     ]
    },
    {
     "name": "stderr",
     "output_type": "stream",
     "text": [
      " 20%|██        | 2/10 [01:14<04:58, 37.34s/it]"
     ]
    },
    {
     "name": "stdout",
     "output_type": "stream",
     "text": [
      "Epoch 2/10, Train Loss: 0.6916, Train Accuracy: 79.08%, Val Loss: 0.3881, Val Accuracy: 88.52%\n"
     ]
    },
    {
     "name": "stderr",
     "output_type": "stream",
     "text": [
      " 30%|███       | 3/10 [01:51<04:20, 37.22s/it]"
     ]
    },
    {
     "name": "stdout",
     "output_type": "stream",
     "text": [
      "Epoch 3/10, Train Loss: 0.3137, Train Accuracy: 90.78%, Val Loss: 0.2502, Val Accuracy: 92.71%\n"
     ]
    },
    {
     "name": "stderr",
     "output_type": "stream",
     "text": [
      " 40%|████      | 4/10 [02:28<03:42, 37.13s/it]"
     ]
    },
    {
     "name": "stdout",
     "output_type": "stream",
     "text": [
      "Epoch 4/10, Train Loss: 0.2263, Train Accuracy: 93.22%, Val Loss: 0.1919, Val Accuracy: 94.55%\n"
     ]
    },
    {
     "name": "stderr",
     "output_type": "stream",
     "text": [
      " 50%|█████     | 5/10 [03:05<03:05, 37.10s/it]"
     ]
    },
    {
     "name": "stdout",
     "output_type": "stream",
     "text": [
      "Epoch 5/10, Train Loss: 0.1868, Train Accuracy: 94.38%, Val Loss: 0.1657, Val Accuracy: 95.02%\n"
     ]
    },
    {
     "name": "stderr",
     "output_type": "stream",
     "text": [
      " 60%|██████    | 6/10 [03:42<02:28, 37.07s/it]"
     ]
    },
    {
     "name": "stdout",
     "output_type": "stream",
     "text": [
      "Epoch 6/10, Train Loss: 0.1633, Train Accuracy: 95.01%, Val Loss: 0.1490, Val Accuracy: 95.58%\n"
     ]
    },
    {
     "name": "stderr",
     "output_type": "stream",
     "text": [
      " 70%|███████   | 7/10 [04:19<01:51, 37.03s/it]"
     ]
    },
    {
     "name": "stdout",
     "output_type": "stream",
     "text": [
      "Epoch 7/10, Train Loss: 0.1454, Train Accuracy: 95.65%, Val Loss: 0.1477, Val Accuracy: 95.58%\n"
     ]
    },
    {
     "name": "stderr",
     "output_type": "stream",
     "text": [
      " 80%|████████  | 8/10 [04:56<01:14, 37.01s/it]"
     ]
    },
    {
     "name": "stdout",
     "output_type": "stream",
     "text": [
      "Epoch 8/10, Train Loss: 0.1323, Train Accuracy: 96.04%, Val Loss: 0.1354, Val Accuracy: 95.83%\n"
     ]
    },
    {
     "name": "stderr",
     "output_type": "stream",
     "text": [
      " 90%|█████████ | 9/10 [05:33<00:37, 37.01s/it]"
     ]
    },
    {
     "name": "stdout",
     "output_type": "stream",
     "text": [
      "Epoch 9/10, Train Loss: 0.1226, Train Accuracy: 96.32%, Val Loss: 0.1204, Val Accuracy: 96.33%\n"
     ]
    },
    {
     "name": "stderr",
     "output_type": "stream",
     "text": [
      "100%|██████████| 10/10 [06:11<00:00, 37.11s/it]"
     ]
    },
    {
     "name": "stdout",
     "output_type": "stream",
     "text": [
      "Epoch 10/10, Train Loss: 0.1141, Train Accuracy: 96.67%, Val Loss: 0.1259, Val Accuracy: 96.03%\n"
     ]
    },
    {
     "name": "stderr",
     "output_type": "stream",
     "text": [
      "\n"
     ]
    }
   ],
   "execution_count": 300
  },
  {
   "metadata": {
    "ExecuteTime": {
     "end_time": "2024-06-19T02:46:16.682776Z",
     "start_time": "2024-06-19T02:46:09.793218Z"
    }
   },
   "cell_type": "code",
   "source": [
    "\n",
    "# for testing \n",
    "# Load the best model for testing\n",
    "model_0.load_state_dict(torch.load('best_model_fcn1.pth'))\n",
    "test_loss, test_accuracy = test_step(data_loader=test_dataloader, model=model_2, loss_fn=loss_fn, accuracy_fn=accuracy_fn, device=device)\n",
    "print(f'Test Loss: {test_loss:.4f}, Test Accuracy: {test_accuracy:.2f}%')"
   ],
   "id": "300e7aaec1e86794",
   "outputs": [
    {
     "name": "stdout",
     "output_type": "stream",
     "text": [
      "Test Loss: 0.1085, Test Accuracy: 96.40%\n"
     ]
    }
   ],
   "execution_count": 301
  },
  {
   "metadata": {},
   "cell_type": "markdown",
   "source": "## K - Fold CrossValidation - ",
   "id": "dfd2d6568a4510ad"
  },
  {
   "metadata": {
    "ExecuteTime": {
     "end_time": "2024-06-19T02:46:16.692988Z",
     "start_time": "2024-06-19T02:46:16.684804Z"
    }
   },
   "cell_type": "code",
   "source": [
    "from sklearn.model_selection import KFold\n",
    "k_folds = 5\n",
    "kf = KFold(n_splits=k_folds, shuffle=True)\n",
    "num_epochs = 5\n"
   ],
   "id": "ae345199329c3a0",
   "outputs": [],
   "execution_count": 302
  },
  {
   "metadata": {
    "ExecuteTime": {
     "end_time": "2024-06-19T03:28:48.951385Z",
     "start_time": "2024-06-19T02:46:16.695173Z"
    }
   },
   "cell_type": "code",
   "source": [
    "# Define empty lists to store losses and accuracies\n",
    "training_losses = []\n",
    "validation_losses = []\n",
    "\n",
    "\n",
    "# Training loop for k-fold cross-validation\n",
    "for fold, (train_indices, val_indices) in enumerate(kf.split(train_val_data)):\n",
    "    print(f'Fold {fold + 1}/{k_folds}')\n",
    "    \n",
    "    # Initialize model, optimizer, criterion for each fold\n",
    "    model2 = MNISTv2( output_shape=10)\n",
    "    optimizer = torch.optim.SGD(model2.parameters(), lr=0.01)\n",
    "    criterion = nn.CrossEntropyLoss()\n",
    "    \n",
    "    fold_training_losses = []\n",
    "    fold_validation_losses = []\n",
    "\n",
    "\n",
    "    train_sampler = torch.utils.data.SubsetRandomSampler(train_indices)\n",
    "    val_sampler = torch.utils.data.SubsetRandomSampler(val_indices)\n",
    "    \n",
    "    train_loader = DataLoader(dataset=train_val_data, batch_size=64, sampler=train_sampler)\n",
    "    val_loader = DataLoader(dataset=train_val_data, sampler=val_sampler)\n",
    "    \n",
    "    for epoch in range(num_epochs):\n",
    "        # Reset model parameters for each epoch\n",
    "        model2.train()\n",
    "        optimizer.zero_grad()\n",
    "        \n",
    "        train_loss, train_accuracy = train_step(model=model2, data_loader=train_loader, loss_fn=loss_fn, accuracy_fn=accuracy_fn, optimizer=optimizer, device=device)\n",
    "        val_loss, val_accuracy = val_step(data_loader=val_loader, model=model2, loss_fn=loss_fn, accuracy_fn=accuracy_fn, device=device)\n",
    "        \n",
    "        fold_training_losses.append(train_loss)\n",
    "        fold_validation_losses.append(val_loss)\n",
    " \n",
    "        print(f'Epoch {epoch+1}/{num_epochs}, '\n",
    "              f'Train Loss: {train_loss:.4f}, Train Accuracy: {train_accuracy:.2f}%, '\n",
    "              f'Val Loss: {val_loss:.4f}, Val Accuracy: {val_accuracy:.2f}%')\n",
    "    \n",
    "    training_losses.append(fold_training_losses)\n",
    "    validation_losses.append(fold_validation_losses)\n",
    "\n",
    "\n",
    "print('K-fold cross-validation completed.')\n"
   ],
   "id": "93b362c32ced9aab",
   "outputs": [
    {
     "name": "stdout",
     "output_type": "stream",
     "text": [
      "Fold 1/5\n",
      "Epoch 1/5, Train Loss: 3.3543, Train Accuracy: 13.61%, Val Loss: 3.2385, Val Accuracy: 19.41%\n",
      "Epoch 2/5, Train Loss: 2.3679, Train Accuracy: 30.53%, Val Loss: 1.2908, Val Accuracy: 60.45%\n",
      "Epoch 3/5, Train Loss: 0.7097, Train Accuracy: 77.77%, Val Loss: 0.3618, Val Accuracy: 89.32%\n",
      "Epoch 4/5, Train Loss: 0.3180, Train Accuracy: 90.49%, Val Loss: 0.2891, Val Accuracy: 91.37%\n",
      "Epoch 5/5, Train Loss: 0.2341, Train Accuracy: 92.98%, Val Loss: 0.2249, Val Accuracy: 93.08%\n",
      "Fold 2/5\n",
      "Epoch 1/5, Train Loss: 3.3616, Train Accuracy: 11.26%, Val Loss: 3.2709, Val Accuracy: 14.92%\n",
      "Epoch 2/5, Train Loss: 2.9648, Train Accuracy: 22.68%, Val Loss: 1.4693, Val Accuracy: 55.17%\n",
      "Epoch 3/5, Train Loss: 0.7085, Train Accuracy: 78.48%, Val Loss: 0.3865, Val Accuracy: 88.24%\n",
      "Epoch 4/5, Train Loss: 0.3311, Train Accuracy: 90.36%, Val Loss: 0.2907, Val Accuracy: 91.42%\n",
      "Epoch 5/5, Train Loss: 0.2432, Train Accuracy: 92.90%, Val Loss: 0.2131, Val Accuracy: 93.83%\n",
      "Fold 3/5\n",
      "Epoch 1/5, Train Loss: 3.3861, Train Accuracy: 11.96%, Val Loss: 3.1981, Val Accuracy: 18.26%\n",
      "Epoch 2/5, Train Loss: 1.9585, Train Accuracy: 44.96%, Val Loss: 0.6472, Val Accuracy: 79.86%\n",
      "Epoch 3/5, Train Loss: 0.4594, Train Accuracy: 85.88%, Val Loss: 0.2988, Val Accuracy: 90.83%\n",
      "Epoch 4/5, Train Loss: 0.2658, Train Accuracy: 92.04%, Val Loss: 0.2400, Val Accuracy: 92.77%\n",
      "Epoch 5/5, Train Loss: 0.2046, Train Accuracy: 93.91%, Val Loss: 0.2049, Val Accuracy: 93.92%\n",
      "Fold 4/5\n",
      "Epoch 1/5, Train Loss: 2.9114, Train Accuracy: 17.07%, Val Loss: 2.3957, Val Accuracy: 16.56%\n",
      "Epoch 2/5, Train Loss: 1.4069, Train Accuracy: 54.17%, Val Loss: 0.6491, Val Accuracy: 80.08%\n",
      "Epoch 3/5, Train Loss: 0.4357, Train Accuracy: 86.72%, Val Loss: 0.3691, Val Accuracy: 88.69%\n",
      "Epoch 4/5, Train Loss: 0.2795, Train Accuracy: 91.51%, Val Loss: 0.2531, Val Accuracy: 92.39%\n",
      "Epoch 5/5, Train Loss: 0.2165, Train Accuracy: 93.45%, Val Loss: 0.2173, Val Accuracy: 93.36%\n",
      "Fold 5/5\n",
      "Epoch 1/5, Train Loss: 2.4881, Train Accuracy: 21.90%, Val Loss: 1.8542, Val Accuracy: 38.52%\n",
      "Epoch 2/5, Train Loss: 0.9928, Train Accuracy: 68.76%, Val Loss: 0.4754, Val Accuracy: 86.23%\n",
      "Epoch 3/5, Train Loss: 0.3489, Train Accuracy: 89.67%, Val Loss: 0.2625, Val Accuracy: 92.07%\n",
      "Epoch 4/5, Train Loss: 0.2346, Train Accuracy: 93.02%, Val Loss: 0.2204, Val Accuracy: 93.29%\n",
      "Epoch 5/5, Train Loss: 0.1878, Train Accuracy: 94.37%, Val Loss: 0.1742, Val Accuracy: 94.86%\n",
      "K-fold cross-validation completed.\n"
     ]
    }
   ],
   "execution_count": 303
  },
  {
   "metadata": {
    "ExecuteTime": {
     "end_time": "2024-06-19T03:28:56.178672Z",
     "start_time": "2024-06-19T03:28:48.955811Z"
    }
   },
   "cell_type": "code",
   "source": [
    "test_loss, test_accuracy = test_step(data_loader=test_dataloader, model=model2, loss_fn=loss_fn, accuracy_fn=accuracy_fn, device=device)\n",
    "print(f'Test Loss: {test_loss:.4f}, Test Accuracy: {test_accuracy:.2f}%')"
   ],
   "id": "83a0961ee7f59f56",
   "outputs": [
    {
     "name": "stdout",
     "output_type": "stream",
     "text": [
      "Test Loss: 0.1469, Test Accuracy: 95.27%\n"
     ]
    }
   ],
   "execution_count": 304
  },
  {
   "metadata": {
    "ExecuteTime": {
     "end_time": "2024-06-19T03:28:56.183195Z",
     "start_time": "2024-06-19T03:28:56.180531Z"
    }
   },
   "cell_type": "code",
   "source": "",
   "id": "364486883aeab4cb",
   "outputs": [],
   "execution_count": 304
  },
  {
   "metadata": {},
   "cell_type": "markdown",
   "source": "",
   "id": "a985043a271daf7a"
  },
  {
   "metadata": {
    "ExecuteTime": {
     "end_time": "2024-06-19T03:31:01.171468Z",
     "start_time": "2024-06-19T03:31:01.168723Z"
    }
   },
   "cell_type": "code",
   "source": "",
   "id": "a28ed23461ee8d20",
   "outputs": [],
   "execution_count": 305
  },
  {
   "metadata": {
    "ExecuteTime": {
     "end_time": "2024-06-19T03:28:56.256280Z",
     "start_time": "2024-06-19T03:28:56.256059Z"
    }
   },
   "cell_type": "code",
   "source": "",
   "id": "8db8614b28a2a1ca",
   "outputs": [],
   "execution_count": null
  },
  {
   "metadata": {},
   "cell_type": "code",
   "source": "",
   "id": "1327bc59daeb4a88",
   "outputs": [],
   "execution_count": null
  }
 ],
 "metadata": {
  "kernelspec": {
   "display_name": "Python 3",
   "language": "python",
   "name": "python3"
  },
  "language_info": {
   "codemirror_mode": {
    "name": "ipython",
    "version": 2
   },
   "file_extension": ".py",
   "mimetype": "text/x-python",
   "name": "python",
   "nbconvert_exporter": "python",
   "pygments_lexer": "ipython2",
   "version": "2.7.6"
  }
 },
 "nbformat": 4,
 "nbformat_minor": 5
}
